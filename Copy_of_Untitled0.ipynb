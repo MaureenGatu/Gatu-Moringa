{
  "nbformat": 4,
  "nbformat_minor": 0,
  "metadata": {
    "colab": {
      "name": "Copy of Untitled0.ipynb",
      "provenance": [],
      "collapsed_sections": [],
      "authorship_tag": "ABX9TyMdBSeBsFBjVU0JJ+rtt4Bq",
      "include_colab_link": true
    },
    "kernelspec": {
      "name": "python3",
      "display_name": "Python 3"
    },
    "language_info": {
      "name": "python"
    }
  },
  "cells": [
    {
      "cell_type": "markdown",
      "metadata": {
        "id": "view-in-github",
        "colab_type": "text"
      },
      "source": [
        "<a href=\"https://colab.research.google.com/github/MaureenGatu/Gatu-Moringa/blob/main/Copy_of_Untitled0.ipynb\" target=\"_parent\"><img src=\"https://colab.research.google.com/assets/colab-badge.svg\" alt=\"Open In Colab\"/></a>"
      ]
    },
    {
      "cell_type": "code",
      "metadata": {
        "id": "vbUhv3nRm2el"
      },
      "source": [
        "#Take in two values from a user (both in pounds) then convert those values to kilograms.\n",
        "#Perform the sum of the values.\n",
        "#Perform the average of the values.\n",
        "#Find the difference between both values.  \n",
        "#Find the quotient when one value is divided by the other.\n",
        "#Determine and print out whether any of the numbers are even or add.\n",
        "#Have comments applied appropriately."
      ],
      "execution_count": null,
      "outputs": []
    },
    {
      "cell_type": "code",
      "metadata": {
        "colab": {
          "base_uri": "https://localhost:8080/"
        },
        "id": "xNWtn75wnd3t",
        "outputId": "6a763d21-b2e1-40c4-ab3d-f67cc38a150f"
      },
      "source": [
        "#Take in two values from a user (both in pounds) then convert those values to kilograms.\n",
        "\n",
        "x= int(input('Please enter first weight in pounds; '))\n",
        "y = int(input('Please enter second weight in pounds; '))\n",
        "weight_1_in_kgs = float(x)/2.205\n",
        "weight_2_in_kgs1 = float(y)/2.205\n",
        "print('First weight in kgs is ' + str(weight_1_in_kgs))\n",
        "print('Second weight in kgs is ' + str(weight_2_in_kgs))\n"
      ],
      "execution_count": 16,
      "outputs": [
        {
          "output_type": "stream",
          "text": [
            "Please enter first weight in pounds; 450\n",
            "Please enter second weight in pounds; 203\n",
            "First weight in kgs is 204.0816326530612\n",
            "Second weight in kgs is 227.6643990929705\n"
          ],
          "name": "stdout"
        }
      ]
    },
    {
      "cell_type": "code",
      "metadata": {
        "colab": {
          "base_uri": "https://localhost:8080/"
        },
        "id": "5dXeYOM2qNSR",
        "outputId": "78fd1507-e567-40c5-b661-108f2cb06fdb"
      },
      "source": [
        "#Perform the sum of the values.\n",
        "\n",
        "x = int(x)\n",
        "y = int(y)\n",
        "Sum = (x + y)\n",
        "\n",
        "print(x)\n",
        "print(y)\n",
        "print(Sum)"
      ],
      "execution_count": 30,
      "outputs": [
        {
          "output_type": "stream",
          "text": [
            "450\n",
            "203\n",
            "653\n"
          ],
          "name": "stdout"
        }
      ]
    },
    {
      "cell_type": "code",
      "metadata": {
        "colab": {
          "base_uri": "https://localhost:8080/"
        },
        "id": "OTPEWhQutaWG",
        "outputId": "12a98300-74f7-4efe-c07d-620c6c648d0b"
      },
      "source": [
        "#Perform the average of the values.\n",
        "\n",
        "import statistics\n",
        "average= statistics.mean([x, y])\n",
        "print(average)\n"
      ],
      "execution_count": 31,
      "outputs": [
        {
          "output_type": "stream",
          "text": [
            "326.5\n"
          ],
          "name": "stdout"
        }
      ]
    },
    {
      "cell_type": "code",
      "metadata": {
        "colab": {
          "base_uri": "https://localhost:8080/"
        },
        "id": "OMsx39S0vMo_",
        "outputId": "c069e2b5-b35c-4e62-9347-b6ed7cb60caa"
      },
      "source": [
        "#Find the difference between both values.\n",
        "difference = x- y\n",
        "print(difference)"
      ],
      "execution_count": 32,
      "outputs": [
        {
          "output_type": "stream",
          "text": [
            "247\n"
          ],
          "name": "stdout"
        }
      ]
    },
    {
      "cell_type": "code",
      "metadata": {
        "colab": {
          "base_uri": "https://localhost:8080/"
        },
        "id": "2wxmruefvl1V",
        "outputId": "5754ee9d-e5e8-43c2-922b-ed85f8f5eb9d"
      },
      "source": [
        "#Find the quotient when one value is divided by the other.\n",
        "\n",
        "quotient = x/y\n",
        "print(quotient)"
      ],
      "execution_count": 33,
      "outputs": [
        {
          "output_type": "stream",
          "text": [
            "2.2167487684729066\n"
          ],
          "name": "stdout"
        }
      ]
    },
    {
      "cell_type": "code",
      "metadata": {
        "colab": {
          "base_uri": "https://localhost:8080/"
        },
        "id": "Xnm8KV43v1lJ",
        "outputId": "de727ecd-577a-45ab-a6a4-10962492365f"
      },
      "source": [
        "#Determine and print out whether any of the numbers are even or add.\n",
        "if ( x %2)==1:\n",
        "  print(x + ' is an odd number')\n",
        "else:\n",
        "  print(str(x) + ' is an even number.')\n",
        "\n",
        "if (y %2)==1:\n",
        "  print(str(y) + ' is an odd number.')\n",
        "else:\n",
        "  print(str(y) + ' is an ven number.')"
      ],
      "execution_count": 35,
      "outputs": [
        {
          "output_type": "stream",
          "text": [
            "450 is an even number.\n",
            "203 is an odd number.\n"
          ],
          "name": "stdout"
        }
      ]
    }
  ]
}